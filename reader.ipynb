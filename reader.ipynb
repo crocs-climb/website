{
 "cells": [
  {
   "cell_type": "code",
   "execution_count": 1,
   "metadata": {},
   "outputs": [],
   "source": [
    "import re\n",
    "import json\n",
    "from pprint import pprint\n",
    "from yaml import safe_load\n",
    "import toolz\n"
   ]
  },
  {
   "cell_type": "code",
   "execution_count": 2,
   "metadata": {},
   "outputs": [],
   "source": [
    "def clean_title(st):\n",
    "    title = st.strip('\"\\' \\n#')\n",
    "    title,_, ctx = title.rpartition('(')\n",
    "    return title.strip(), ctx.strip(' )')\n",
    "\n",
    "def youtube_embed(st):\n",
    "    _, _, ref = st.partition('v=')\n",
    "    return 'https://www.youtube.com/embed/' + ref\n",
    "\n",
    "\n",
    "def remove_empty_lines(st):\n",
    "    return '\\n'.join(line for line in st.splitlines() if not line.isspace())\n",
    "\n",
    "\n",
    "def parse_re(regex, doc):\n",
    "    m = regex.match(doc)\n",
    "    if m is None:\n",
    "        raise TypeError('do not match document')\n",
    "\n",
    "    i, j = m.span()\n",
    "    return m.group(1), doc[j:]\n",
    "\n",
    "\n",
    "\n",
    "def parse_rant(rant):\n",
    "    text, _, source = rant.rpartition('<')\n",
    "    source = source.rstrip('>')\n",
    "    text = text.strip()\n",
    "    return {'text': text, 'source': parse_source(source)}\n",
    "\n",
    "\n",
    "\n",
    "\n",
    "def parse_story(st):\n",
    "    try:\n",
    "        st = st.strip()\n",
    "        story = {}\n",
    "\n",
    "        # Split event from data\n",
    "        head, *events = st.split('\\n##') \n",
    "        title, meta, content = parse_ternary(head.strip())\n",
    "        story['utter'], story['context'] = clean_title(title)\n",
    "\n",
    "        # Process content\n",
    "        *quote, who = content.splitlines()\n",
    "        story['bible'] = '\\n'.join(quote)\n",
    "        story['ref'] = who.strip(' -')\n",
    "\n",
    "        # Process yaml\n",
    "        story['image'] = meta['capa'] or '/static/generic.jpg'\n",
    "        story['youtube'] = youtube_embed(meta['video'])\n",
    "\n",
    "        if meta.get('outras', ()):\n",
    "            story['rants'] = list(map(lambda x: parse_rant(x.lstrip('- ')), meta['outras']))\n",
    "        else:\n",
    "            story['rants'] = []\n",
    "\n",
    "        # Process events\n",
    "        story['events'] = list(map(parse_event, events))\n",
    "    except:\n",
    "        print('story:', st.partition('\\n')[0])\n",
    "        raise\n",
    "    return story"
   ]
  },
  {
   "cell_type": "code",
   "execution_count": 3,
   "metadata": {},
   "outputs": [
    {
     "data": {
      "text/plain": [
       "{'utter': 'Vamos fuzilar a petralhada',\n",
       " 'context': 'Jair Bolsonaro, em comício no Acre',\n",
       " 'bible': 'Aí Jesus disse: \"Guarde a sua espada, pois quem usa a espada será morto por uma espada\".',\n",
       " 'ref': 'Mateus 26:52',\n",
       " 'image': '/static/pomba-laranja.jpg',\n",
       " 'youtube': 'https://www.youtube.com/embed/FYErb6oriiU',\n",
       " 'rants': [{'text': 'Quanto mais se matar, melhor',\n",
       "   'source': {'name': 'Youtube',\n",
       "    'url': 'https://www.youtube.com/watch?v=Ii-Bo9HPAeE'}},\n",
       "  {'text': 'Violência se combate com violência',\n",
       "   'source': {'name': 'Youtube',\n",
       "    'url': 'https://www.youtube.com/watch?v=o8ECr0eDEGo'}},\n",
       "  {'text': 'Bolsonaro ensina criança a fazer gesto de arma e causa revolta',\n",
       "   'source': {'name': 'Youtube',\n",
       "    'url': 'https://www.youtube.com/watch?v=hpep_70CWlw'}}],\n",
       " 'events': [{'title': 'Mestre de capoeira é morto por eleitor de Bolsonaro após declarar voto no PT',\n",
       "   'image': 'https://extra.globo.com/incoming/23139253-c7d-8af/w640h360-PROP/xmoa.jpg.pagespeed.ic.jMLoqYFCWZ.jpg',\n",
       "   'text': 'Mestre Moa do Katendê, de 63 anos, foi assassinado com 12 facadas após se\\nposicionar contra Jair Bolsonaro num bar de Salvador.',\n",
       "   'source': {'name': 'BBC Brasil)',\n",
       "    'url': 'https://www.bbc.com/portuguese/brasil-45806355'}},\n",
       "  {'title': 'Cachorro é morto em carreata por eleitores de Bolsonaro',\n",
       "   'image': 'https://s2.glbimg.com/20uK-Um1A3px57Q76UkHNvq59-Q=/0x0:1700x1065/1000x0/smart/filters:strip_icc()/i.s3.glbimg.com/v1/AUTH_59edd422c0c84a879bd37670ae4f538a/internal_photos/bs/2018/u/5/t00JL0T3ifS4pbFOZKXQ/cachorro1.jpg',\n",
       "   'text': 'A dona do animal disse que estava com seus quatro cachorros, na frente de casa,\\nquando um homem que participava do movimento se incomodou com o barulho dos\\ncães e atirou. \"Um homem saiu do carro e deu um tiro no pé do Marley e, depois\\nque o cachorro correu, ele deu mais dois tiros\", conta a mulher.',\n",
       "   'source': {'name': 'O Globo)',\n",
       "    'url': 'https://oglobo.globo.com/brasil/irma-de-marielle-franco-diz-que-foi-agredida-verbalmente-por-apoiadores-de-bolsonaro-23141100'}},\n",
       "  {'title': 'Apoiadores de Bolsonaro realizaram pelo menos 50 ataques em todo o país',\n",
       "   'image': 'https://ep01.epimg.net/brasil/imagenes/2018/10/11/politica/1539282750_803269_1539282894_sumario_normal_recorte1.jpg',\n",
       "   'text': 'Todos esses ataques violentos aconteceram desde o dia 30 de setembro, em meio\\nao acirramento da violência eleitoral. A grande maioria dessas agressões foi\\nfeita por apoiadores de Jair Bolsonaro. Isso mostra que as declarações de\\nBolsonaro que incitam a violência contra mulheres, LGBTs, negros e índios e a\\nviolência policial estão ecoando país afora e se transformaram em agressões\\nfísicas e verbais nestas eleições.',\n",
       "   'source': {'name': 'El País',\n",
       "    'url': 'https://brasil.elpais.com/brasil/2018/10/11/politica/1539282750_803269.html'}}]}"
      ]
     },
     "execution_count": 3,
     "metadata": {},
     "output_type": "execute_result"
    }
   ],
   "source": [
    "stories = list(map(parse_story, open('data.md').read().split('\\n---')))\n",
    "\n",
    "with open('static/data.json', 'w') as fd:\n",
    "    json.dump(stories[:], fd)\n",
    "    \n",
    "stories[0]"
   ]
  },
  {
   "cell_type": "code",
   "execution_count": null,
   "metadata": {},
   "outputs": [],
   "source": []
  },
  {
   "cell_type": "code",
   "execution_count": null,
   "metadata": {},
   "outputs": [],
   "source": []
  }
 ],
 "metadata": {
  "kernelspec": {
   "display_name": "Python 3.10.6 64-bit",
   "language": "python",
   "name": "python3"
  },
  "language_info": {
   "codemirror_mode": {
    "name": "ipython",
    "version": 3
   },
   "file_extension": ".py",
   "mimetype": "text/x-python",
   "name": "python",
   "nbconvert_exporter": "python",
   "pygments_lexer": "ipython3",
   "version": "3.10.6"
  },
  "vscode": {
   "interpreter": {
    "hash": "e7370f93d1d0cde622a1f8e1c04877d8463912d04d973331ad4851f04de6915a"
   }
  }
 },
 "nbformat": 4,
 "nbformat_minor": 2
}
